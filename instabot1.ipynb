{
 "cells": [
  {
   "cell_type": "code",
   "execution_count": 1,
   "metadata": {},
   "outputs": [],
   "source": [
    "# every task in the assigment can be executed by using the function described bellow\n",
    "# to start anther task after performing one task use \"start_session()\" function"
   ]
  },
  {
   "cell_type": "code",
   "execution_count": 3,
   "metadata": {},
   "outputs": [
    {
     "ename": "ModuleNotFoundError",
     "evalue": "No module named 'selenium'",
     "output_type": "error",
     "traceback": [
      "\u001b[1;31m---------------------------------------------------------------------------\u001b[0m",
      "\u001b[1;31mModuleNotFoundError\u001b[0m                       Traceback (most recent call last)",
      "\u001b[1;32m<ipython-input-3-d47afa7783b7>\u001b[0m in \u001b[0;36m<module>\u001b[1;34m\u001b[0m\n\u001b[0;32m      1\u001b[0m \u001b[1;31m#importing essential libraries\u001b[0m\u001b[1;33m\u001b[0m\u001b[1;33m\u001b[0m\u001b[1;33m\u001b[0m\u001b[0m\n\u001b[1;32m----> 2\u001b[1;33m \u001b[1;32mfrom\u001b[0m \u001b[0mselenium\u001b[0m \u001b[1;32mimport\u001b[0m \u001b[0mwebdriver\u001b[0m\u001b[1;33m\u001b[0m\u001b[1;33m\u001b[0m\u001b[0m\n\u001b[0m\u001b[0;32m      3\u001b[0m \u001b[1;32mimport\u001b[0m \u001b[0mtime\u001b[0m\u001b[1;33m\u001b[0m\u001b[1;33m\u001b[0m\u001b[0m\n\u001b[0;32m      4\u001b[0m \u001b[1;32mfrom\u001b[0m \u001b[0mselenium\u001b[0m\u001b[1;33m.\u001b[0m\u001b[0mwebdriver\u001b[0m\u001b[1;33m.\u001b[0m\u001b[0mcommon\u001b[0m\u001b[1;33m.\u001b[0m\u001b[0mkeys\u001b[0m \u001b[1;32mimport\u001b[0m \u001b[0mKeys\u001b[0m\u001b[1;33m\u001b[0m\u001b[1;33m\u001b[0m\u001b[0m\n",
      "\u001b[1;31mModuleNotFoundError\u001b[0m: No module named 'selenium'"
     ]
    }
   ],
   "source": [
    "#importing essential libraries\n",
    "from selenium import webdriver\n",
    "import time\n",
    "from selenium.webdriver.common.keys import Keys"
   ]
  },
  {
   "cell_type": "code",
   "execution_count": null,
   "metadata": {},
   "outputs": [],
   "source": [
    "#creating a function to start new session in instagram\n",
    "def start_session():\n",
    "    driver=webdriver.Chrome(\"C:\\\\Users\\\\manis\\\\Desktop\\\\New_project\\\\chromedriver.exe\")\n",
    "    driver.get(\"https://www.instagram.com/\")\n",
    "    "
   ]
  },
  {
   "cell_type": "code",
   "execution_count": 16,
   "metadata": {},
   "outputs": [],
   "source": [
    "#logging in instagram by my id\n",
    "#here I am replacing my username and password with sample user name and password\n",
    "def log_in():\n",
    "    b2=driver.find_element_by_name(\"username\")\n",
    "    b2.send_keys(\"sample_user_name\")\n",
    "    b3=driver.find_element_by_name(\"password\")\n",
    "    b3.send_keys(\"sample_password\")\n",
    "    b4=driver.find_element_by_xpath('//button[@type=\"submit\"]/div')\n",
    "    b4.click()\n",
    "    driver.find_element_by_xpath('//div[@class=\"mt3GC\"]').click()"
   ]
  },
  {
   "cell_type": "code",
   "execution_count": 79,
   "metadata": {},
   "outputs": [],
   "source": [
    "#function for the first task,i.e printing insta_handles related to food\n",
    "def insta_handle_list():\n",
    "    b6=driver.find_element_by_xpath('//input[@type=\"text\"]')\n",
    "    b6.send_keys(\"food\")\n",
    "    #objects for all insta_handle\n",
    "    insta_list=driver.find_elements_by_xpath('//div[@class=\"uyeeR\"]/span')\n",
    "    for ele in insta_list:\n",
    "            #using innerHTML attribute to get names\n",
    "            name=ele.get_attribute('innerHTML')\n",
    "            #removing \"#\" from names\n",
    "            if name[0]!=\"#\":\n",
    "                print(name)\n",
    "            else:\n",
    "                print(name[1:])\n",
    "    "
   ]
  },
  {
   "cell_type": "code",
   "execution_count": 58,
   "metadata": {},
   "outputs": [],
   "source": [
    "#creating function to remove text from search box\n",
    "def clear_text():\n",
    "    b6=driver.find_element_by_xpath('//input[@type=\"text\"]')\n",
    "    for i in range(50):\n",
    "        b6.send_keys(Keys.BACKSPACE)"
   ]
  },
  {
   "cell_type": "code",
   "execution_count": 83,
   "metadata": {},
   "outputs": [],
   "source": [
    "#task 2-following and unfollowing \"So Delhi\"\n",
    "def following_unfollowing():\n",
    "    clear_text()\n",
    "    b6=driver.find_element_by_xpath('//input[@type=\"text\"]')\n",
    "    b6.send_keys(\"So Delhi\")\n",
    "    time.sleep(3)\n",
    "    b=driver.find_element_by_xpath('//div[@class=\"uyeeR\"]/span')\n",
    "    b.click()\n",
    "    #finding follow button\n",
    "    b8=driver.find_element_by_xpath('//span[@class=\"vBF20 _1OSdk\"]/button')\n",
    "    if b8.get_attribute(\"innerHTML\")==\"Follow\":\n",
    "              b8.click()\n",
    "              print(\"following\")\n",
    "    if b8.get_attribute(\"innerHTML\")==\"Following\":\n",
    "                b8.click()\n",
    "                b9=driver.find_element_by_xpath('//div[@class=\"mt3GC\"]/button')\n",
    "                b9.click()\n",
    "                print(\"unfollowing\")"
   ]
  },
  {
   "cell_type": "code",
   "execution_count": 91,
   "metadata": {},
   "outputs": [],
   "source": [
    "#using infinite_scrolling to load all the posts\n",
    "def infinite_scroll():\n",
    "    curr_height=0\n",
    "    new_height=driver.execute_script('return document.body.scrollHeight;')\n",
    "    while new_height>curr_height:\n",
    "                posts=driver.find_elements_by_xpath('//div[@class=\"_9AhH0\"]')\n",
    "                driver.execute_script('window.scrollTo(0,arguments[0]);',new_height)\n",
    "                time.sleep(5)\n",
    "                curr_height=new_height\n",
    "                new_height=driver.execute_script('return document.body.scrollHeight;')\n",
    "                if len(posts)>=30:\n",
    "                    break\n",
    "    "
   ]
  },
  {
   "cell_type": "code",
   "execution_count": 84,
   "metadata": {},
   "outputs": [],
   "source": [
    "#task3-(a)liking 30 posts\n",
    "def like_30_posts():\n",
    "    infinite_scroll()\n",
    "    #obtaining posts\n",
    "    posts=driver.find_elements_by_xpath('//div[@class=\"_9AhH0\"]')\n",
    "    #iterating over 30 posts\n",
    "    for i in range(30):\n",
    "        posts[i].click()\n",
    "        time.sleep(5)\n",
    "        #finding like button\n",
    "        like_button=driver.find_element_by_xpath('//button[@class=\"wpO6b \"]')\n",
    "        like_button.click()\n",
    "        print(\"posts \"+str(i)+\" is liked\")\n",
    "        time.sleep(5)\n",
    "        driver.back()\n",
    "        time.sleep(3)\n",
    "        "
   ]
  },
  {
   "cell_type": "code",
   "execution_count": 76,
   "metadata": {},
   "outputs": [],
   "source": [
    "#task3-(b)unliking 30 posts\n",
    "def unlike_30_posts():\n",
    "    infinite_scroll()\n",
    "    posts=driver.find_elements_by_xpath('//div[@class=\"_9AhH0\"]')\n",
    "    for i in range(len(30)):\n",
    "        posts[i].click()\n",
    "        time.sleep(5)\n",
    "        like_button=driver.find_element_by_xpath('//button[@class=\"wpO6b \"]')\n",
    "        like_button.click()\n",
    "        time.sleep(3)\n",
    "        print(\"posts \"+str(i)+\" is unliked\")\n",
    "        time.sleep(5)\n",
    "    "
   ]
  },
  {
   "cell_type": "code",
   "execution_count": 85,
   "metadata": {},
   "outputs": [],
   "source": [
    "#task-4:getting follower list of foodtalkIndia\n",
    "def followers_list():\n",
    "    clear_text()\n",
    "    b6=driver.find_element_by_xpath('//input[@type=\"text\"]')\n",
    "    b6.send_keys(\"foodtalkIndia\")\n",
    "    b8=driver.find_element_by_xpath('//div[@class=\"z556c\"]')  \n",
    "    b8.click()\n",
    "    time.sleep(3)\n",
    "    #finding list of followers\n",
    "    follow_button=driver.find_element_by_xpath('//a[@class=\" _81NM2\"]')\n",
    "    follow_button.click()\n",
    "    time.sleep(5)\n",
    "    followers_list=[]\n",
    "    followers=driver.find_elements_by_xpath('//a[@class=\"FPmhX notranslate  _0imsa \"]')\n",
    "    for i in range(len(followers)):\n",
    "            #using attribute \"title\" to get the names and storing it in separate list\n",
    "            followers_list.append(followers[i].get_attribute('title'))\n",
    "    #visiting my profile\n",
    "    driver.get(\"https://www.instagram.com\")\n",
    "    time.sleep(5)\n",
    "    mp=driver.find_element_by_xpath('//a[@href=\"/manish_ks23/\"]')\n",
    "    mp.click()\n",
    "    #finding people that I follow\n",
    "    following_button=driver.find_elements_by_xpath('//a[@class=\" _81NM2\"]')\n",
    "    following_button[1].click()\n",
    "    time.sleep(3)\n",
    "    following=driver.find_elements_by_xpath('//a[@class=\"FPmhX notranslate  _0imsa \"]')\n",
    "    following_list=[]\n",
    "    for i in range(len(following)):\n",
    "            following_list.append(following[i].get_attribute('title'))\n",
    "    driver.get(\"https://www.instagram.com\")\n",
    "    #printing name of people that I follow that follow foodtalkIndia\n",
    "    for ele in followers_list:\n",
    "        if ele in following_list:\n",
    "            print(ele)\n",
    "    \n"
   ]
  },
  {
   "cell_type": "code",
   "execution_count": 77,
   "metadata": {},
   "outputs": [],
   "source": [
    "#task-5:viewing stories from coding ninjas\n",
    "def stories_coding_ninjas():\n",
    "    #visiting coding ninjas\n",
    "    driver.find_element_by_xpath('//input[@type=\"text\"]').send_keys(\"coding ninjas\")\n",
    "    b9=driver.find_element_by_class_name(\"z556c\")\n",
    "    b9.click()\n",
    "    time.sleep(3)\n",
    "    #finding stories\n",
    "    stories=driver.find_elements_by_xpath('//div[@class=\"tUtVM\"]')\n",
    "    if len(stories)==0:\n",
    "        print(\"no stories available\")\n",
    "    #viewing all the stories that I havent seen\n",
    "    else:\n",
    "        for i in range(len(stories)):\n",
    "            stories[i].click(\"https://www.instagram.com\")"
   ]
  },
  {
   "cell_type": "code",
   "execution_count": 4,
   "metadata": {},
   "outputs": [
    {
     "ename": "NameError",
     "evalue": "name 'start_session' is not defined",
     "output_type": "error",
     "traceback": [
      "\u001b[1;31m---------------------------------------------------------------------------\u001b[0m",
      "\u001b[1;31mNameError\u001b[0m                                 Traceback (most recent call last)",
      "\u001b[1;32m<ipython-input-4-dd7bc3abe146>\u001b[0m in \u001b[0;36m<module>\u001b[1;34m\u001b[0m\n\u001b[0;32m      1\u001b[0m \u001b[1;31m#Performing Tasks\u001b[0m\u001b[1;33m\u001b[0m\u001b[1;33m\u001b[0m\u001b[1;33m\u001b[0m\u001b[0m\n\u001b[1;32m----> 2\u001b[1;33m \u001b[0mstart_session\u001b[0m\u001b[1;33m(\u001b[0m\u001b[1;33m)\u001b[0m\u001b[1;33m\u001b[0m\u001b[1;33m\u001b[0m\u001b[0m\n\u001b[0m\u001b[0;32m      3\u001b[0m \u001b[0mlog_in\u001b[0m\u001b[1;33m(\u001b[0m\u001b[1;33m)\u001b[0m\u001b[1;33m\u001b[0m\u001b[1;33m\u001b[0m\u001b[0m\n",
      "\u001b[1;31mNameError\u001b[0m: name 'start_session' is not defined"
     ]
    }
   ],
   "source": [
    "#Performing Tasks\n",
    "start_session()\n",
    "log_in()\n"
   ]
  },
  {
   "cell_type": "code",
   "execution_count": null,
   "metadata": {},
   "outputs": [],
   "source": [
    "insta_handle_list()"
   ]
  },
  {
   "cell_type": "code",
   "execution_count": null,
   "metadata": {},
   "outputs": [],
   "source": [
    "clear_text()"
   ]
  },
  {
   "cell_type": "code",
   "execution_count": null,
   "metadata": {},
   "outputs": [],
   "source": [
    "following_unfollowing()"
   ]
  },
  {
   "cell_type": "code",
   "execution_count": null,
   "metadata": {},
   "outputs": [],
   "source": [
    "like_30_posts()"
   ]
  },
  {
   "cell_type": "code",
   "execution_count": null,
   "metadata": {},
   "outputs": [],
   "source": [
    "unlike_30_posts()"
   ]
  },
  {
   "cell_type": "code",
   "execution_count": null,
   "metadata": {},
   "outputs": [],
   "source": [
    "followers_list()"
   ]
  },
  {
   "cell_type": "code",
   "execution_count": null,
   "metadata": {},
   "outputs": [],
   "source": [
    "clear_text()\n",
    "stories_coding_ninjas()"
   ]
  }
 ],
 "metadata": {
  "kernelspec": {
   "display_name": "Python 3",
   "language": "python",
   "name": "python3"
  },
  "language_info": {
   "codemirror_mode": {
    "name": "ipython",
    "version": 3
   },
   "file_extension": ".py",
   "mimetype": "text/x-python",
   "name": "python",
   "nbconvert_exporter": "python",
   "pygments_lexer": "ipython3",
   "version": "3.7.6"
  }
 },
 "nbformat": 4,
 "nbformat_minor": 2
}
